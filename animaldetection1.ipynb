{
 "cells": [
  {
   "cell_type": "code",
   "execution_count": 1,
   "id": "191ef7db-4b40-4a04-b63b-9f4851618f26",
   "metadata": {},
   "outputs": [],
   "source": [
    "import tensorflow as tf\n",
    "from tensorflow.keras.preprocessing.image import ImageDataGenerator\n",
    "from tensorflow.keras.models import Sequential\n",
    "from tensorflow.keras.layers import Conv2D, MaxPooling2D, Flatten, Dense, Dropout, BatchNormalization\n",
    "from tensorflow.keras.optimizers import Adam"
   ]
  },
  {
   "cell_type": "code",
   "execution_count": 2,
   "id": "9b1b8f70-da16-43dd-acb3-e1ea8eb8ee5e",
   "metadata": {},
   "outputs": [],
   "source": [
    "# Define image dimensions and batch size\n",
    "img_width, img_height = 224, 224"
   ]
  },
  {
   "cell_type": "code",
   "execution_count": 3,
   "id": "4c8c3a53-1435-48f0-b9c4-831b7dd1592c",
   "metadata": {},
   "outputs": [],
   "source": [
    "# Define the number of classes\n",
    "num_classes = 56\n",
    "train_dir='data'\n",
    "val_dir='data'"
   ]
  },
  {
   "cell_type": "code",
   "execution_count": 4,
   "id": "d1c07527-e79c-44ae-b189-6ba3c283f7ae",
   "metadata": {},
   "outputs": [],
   "source": [
    "model = Sequential()"
   ]
  },
  {
   "cell_type": "code",
   "execution_count": 5,
   "id": "92447462-c7f7-4fa1-917c-78940244e247",
   "metadata": {},
   "outputs": [],
   "source": [
    "model.add(Conv2D(32, (3, 3), activation='relu', input_shape=(img_width, img_height, 3)))\n",
    "model.add(BatchNormalization())\n",
    "model.add(MaxPooling2D((2, 2)))\n",
    "\n",
    "model.add(Conv2D(64, (3, 3), activation='relu'))\n",
    "model.add(BatchNormalization())\n",
    "model.add(MaxPooling2D((2, 2)))\n",
    "\n",
    "model.add(Conv2D(128, (3, 3), activation='relu'))\n",
    "model.add(BatchNormalization())\n",
    "model.add(MaxPooling2D((2, 2)))\n",
    "\n",
    "model.add(Conv2D(256, (3, 3), activation='relu'))\n",
    "model.add(BatchNormalization())\n",
    "model.add(MaxPooling2D((2, 2)))\n",
    "\n",
    "model.add(Flatten())\n",
    "\n",
    "model.add(Dense(256, activation='relu'))\n",
    "model.add(BatchNormalization())\n",
    "model.add(Dropout(0.5))\n",
    "\n",
    "model.add(Dense(num_classes, activation='softmax'))"
   ]
  },
  {
   "cell_type": "code",
   "execution_count": 6,
   "id": "c2518030-bdd4-4b74-8983-e5217f4e4dc3",
   "metadata": {},
   "outputs": [],
   "source": [
    "# Data augmentation\n",
    "train_datagen = ImageDataGenerator(\n",
    "    rescale=1./255,\n",
    "    shear_range=0.2,\n",
    "    zoom_range=0.2,\n",
    "    horizontal_flip=True)\n",
    "\n",
    "val_datagen = ImageDataGenerator(rescale=1./255)"
   ]
  },
  {
   "cell_type": "code",
   "execution_count": 7,
   "id": "3ab18f17-66f4-4c9c-8d76-498eac8e97ef",
   "metadata": {},
   "outputs": [
    {
     "name": "stdout",
     "output_type": "stream",
     "text": [
      "Found 3360 images belonging to 56 classes.\n",
      "Found 3360 images belonging to 56 classes.\n"
     ]
    }
   ],
   "source": [
    "# Generate the training data\n",
    "train_generator = train_datagen.flow_from_directory(\n",
    "        train_dir,\n",
    "        target_size=(img_width, img_height),\n",
    "        batch_size=32,\n",
    "        class_mode='categorical')\n",
    "\n",
    "# Generate the validation data\n",
    "val_generator = val_datagen.flow_from_directory(\n",
    "        val_dir,\n",
    "        target_size=(img_width, img_height),\n",
    "        batch_size=32,\n",
    "        class_mode='categorical')"
   ]
  },
  {
   "cell_type": "code",
   "execution_count": 8,
   "id": "62cfd743-8e63-4ff6-833b-465f7bd127c7",
   "metadata": {},
   "outputs": [],
   "source": [
    "# Compile the model\n",
    "model.compile(loss='categorical_crossentropy',\n",
    "              optimizer='adam',\n",
    "              metrics=['accuracy'])"
   ]
  },
  {
   "cell_type": "code",
   "execution_count": 42,
   "id": "7155225c-29b3-4245-90e8-9f3ce45c44e2",
   "metadata": {},
   "outputs": [
    {
     "name": "stdout",
     "output_type": "stream",
     "text": [
      "Epoch 1/10\n",
      "105/105 [==============================] - 297s 3s/step - loss: 0.1330 - accuracy: 0.9613 - val_loss: 0.0385 - val_accuracy: 0.9902\n",
      "Epoch 2/10\n",
      "105/105 [==============================] - 287s 3s/step - loss: 0.1250 - accuracy: 0.9634 - val_loss: 0.0140 - val_accuracy: 0.9958\n",
      "Epoch 3/10\n",
      "105/105 [==============================] - 277s 3s/step - loss: 0.1010 - accuracy: 0.9705 - val_loss: 0.0930 - val_accuracy: 0.9744\n",
      "Epoch 4/10\n",
      "105/105 [==============================] - 278s 3s/step - loss: 0.1194 - accuracy: 0.9652 - val_loss: 0.0047 - val_accuracy: 1.0000\n",
      "Epoch 5/10\n",
      "105/105 [==============================] - 284s 3s/step - loss: 0.1310 - accuracy: 0.9628 - val_loss: 0.0708 - val_accuracy: 0.9804\n",
      "Epoch 6/10\n",
      "105/105 [==============================] - 283s 3s/step - loss: 0.1378 - accuracy: 0.9598 - val_loss: 0.0215 - val_accuracy: 0.9952\n",
      "Epoch 7/10\n",
      "105/105 [==============================] - 287s 3s/step - loss: 0.1227 - accuracy: 0.9646 - val_loss: 0.0312 - val_accuracy: 0.9946\n",
      "Epoch 8/10\n",
      "105/105 [==============================] - 287s 3s/step - loss: 0.1293 - accuracy: 0.9580 - val_loss: 0.0253 - val_accuracy: 0.9935\n",
      "Epoch 9/10\n",
      "105/105 [==============================] - 282s 3s/step - loss: 0.1104 - accuracy: 0.9667 - val_loss: 0.0436 - val_accuracy: 0.9851\n",
      "Epoch 10/10\n",
      "105/105 [==============================] - 284s 3s/step - loss: 0.0863 - accuracy: 0.9744 - val_loss: 0.0269 - val_accuracy: 0.9935\n"
     ]
    }
   ],
   "source": [
    "# Train the model\n",
    "epochs = 10\n",
    "history = model.fit(train_generator, epochs=epochs, validation_data=val_generator)"
   ]
  },
  {
   "cell_type": "code",
   "execution_count": 15,
   "id": "fe21ce22-1d4c-4ca7-93f0-bb14a00caab3",
   "metadata": {},
   "outputs": [],
   "source": [
    "from matplotlib import pyplot as plt"
   ]
  },
  {
   "cell_type": "code",
   "execution_count": 17,
   "id": "e6552764-c17b-45a4-ba69-ce862e202861",
   "metadata": {},
   "outputs": [
    {
     "data": {
      "image/png": "[encoded data removed]",
      "text/plain": [
       "<Figure size 640x480 with 1 Axes>"
      ]
     },
     "metadata": {},
     "output_type": "display_data"
    }
   ],
   "source": [
    "fig = plt.figure()\n",
    "plt.plot(history.history['loss'], color='teal', label='loss')\n",
    "plt.plot(history.history['val_loss'], color='orange', label='val_loss')\n",
    "fig.suptitle('Loss', fontsize=20)\n",
    "plt.legend(loc=\"upper left\")\n",
    "plt.show()"
   ]
  },
  {
   "cell_type": "code",
   "execution_count": 18,
   "id": "7fa15bd8-9045-4149-bb11-84da6d4c7ecd",
   "metadata": {},
   "outputs": [
    {
     "data": {
      "image/png": "[encoded data removed]",
      "text/plain": [
       "<Figure size 640x480 with 1 Axes>"
      ]
     },
     "metadata": {},
     "output_type": "display_data"
    }
   ],
   "source": [
    "fig = plt.figure()\n",
    "plt.plot(history.history['accuracy'], color='teal', label='accuracy')\n",
    "plt.plot(history.history['val_accuracy'], color='orange', label='val_accuracy')\n",
    "fig.suptitle('Accuracy', fontsize=20)\n",
    "plt.legend(loc=\"upper left\")\n",
    "plt.show()"
   ]
  },
  {
   "cell_type": "code",
   "execution_count": 20,
   "id": "bebcd370-e999-4dee-a62a-21e504878b5e",
   "metadata": {},
   "outputs": [
    {
     "name": "stdout",
     "output_type": "stream",
     "text": [
      "105/105 [==============================] - 96s 910ms/step - loss: 0.0408 - accuracy: 0.9917\n",
      "Test loss: 0.04082193970680237\n",
      "Test accuracy: 0.9916666746139526\n"
     ]
    }
   ],
   "source": [
    "test_loss, test_acc = model.evaluate(train_generator)\n",
    "\n",
    "print('Test loss:', test_loss)\n",
    "print('Test accuracy:', test_acc)"
   ]
  },
  {
   "cell_type": "code",
   "execution_count": 43,
   "id": "c482b253-ae86-4fbc-ba0b-29ebb45a596f",
   "metadata": {},
   "outputs": [
    {
     "name": "stdout",
     "output_type": "stream",
     "text": [
      "1/1 [==============================] - 1s 862ms/step\n",
      "Predicted class: bison\n"
     ]
    }
   ],
   "source": [
    "import numpy as np\n",
    "import cv2\n",
    "from tensorflow.keras.preprocessing import image\n",
    "\n",
    "# Load and preprocess the image\n",
    "img_path = '1.jpg'\n",
    "img = image.load_img(img_path, target_size=(224, 224))  # resizing to 224x224\n",
    "x = image.img_to_array(img)\n",
    "x = np.expand_dims(x, axis=0)\n",
    "x = x / 255.0  # scaling pixel values to [0,1]\n",
    "\n",
    "# Generate predictions\n",
    "preds = model.predict(x)\n",
    "\n",
    "# Print the predicted class for the image\n",
    "class_names = ['antelope', 'badger', 'bat', 'bear', 'bison', 'boar', 'cat', 'chimpanzee', 'cow', 'coyote', 'deer', 'dog', 'donkey', 'duck', 'elephant', 'flamingo', 'fox', 'goat', 'goose', 'gorilla', 'hamster', 'hare', 'hedgehog', 'hippopotamus', 'hornbill', 'horse', 'hummingbird', 'hyena', 'kangaroo', 'koala', 'leopard', 'lion', 'okapi', 'orangutan', 'owl', 'ox', 'panda', 'parrot', 'pelecaniformes', 'pig', 'pigeon', 'porcupine', 'possum', 'raccoon', 'reindeer', 'rhinoceros', 'sandpiper', 'sheep', 'snake', 'squirrel', 'tiger', 'turkey', 'wolf', 'wombat', 'woodpecker', 'zebra']\n",
    "print('Predicted class:', class_names[np.argmax(preds)])\n"
   ]
  },
  {
   "cell_type": "code",
   "execution_count": 40,
   "id": "6d6c5eb3-8a16-4198-a95c-b500920564f4",
   "metadata": {},
   "outputs": [],
   "source": [
    "from tensorflow.keras.models import load_model"
   ]
  },
  {
   "cell_type": "code",
   "execution_count": 32,
   "id": "e28393ce-f3f7-4bfd-bfb0-c31bec1fafd5",
   "metadata": {},
   "outputs": [],
   "source": [
    "import os\n",
    "model.save(os.path.join('models','wildclassifier.h5'))"
   ]
  },
  {
   "cell_type": "code",
   "execution_count": 35,
   "id": "2651ec58-9be2-496b-8e22-8813cfcc8d17",
   "metadata": {},
   "outputs": [],
   "source": [
    "new_model = load_model('models/wildclassifier.h5')\n"
   ]
  },
  {
   "cell_type": "code",
   "execution_count": 36,
   "id": "afce38da-74c9-4bc0-80a3-3a182ff7d980",
   "metadata": {},
   "outputs": [
    {
     "name": "stdout",
     "output_type": "stream",
     "text": [
      "1/1 [==============================] - 0s 138ms/step\n"
     ]
    },
    {
     "data": {
      "text/plain": [
       "array([[3.44463333e-05, 2.46258178e-08, 1.01091355e-04, 1.92314360e-07,\n",
       "        1.19898777e-05, 1.79509385e-07, 2.86996237e-06, 8.23549854e-05,\n",
       "        9.24640801e-04, 2.15439632e-05, 7.12522524e-05, 5.89059157e-09,\n",
       "        2.54802842e-07, 2.20036236e-05, 8.57327052e-07, 1.11297204e-03,\n",
       "        7.92518858e-06, 2.63185427e-07, 5.46339606e-07, 6.95991694e-05,\n",
       "        6.70466470e-05, 1.90128958e-05, 3.77983059e-04, 2.58474529e-07,\n",
       "        2.54629209e-04, 7.30164174e-05, 2.17160839e-03, 2.09385439e-06,\n",
       "        5.63106092e-04, 1.50100477e-05, 2.01103523e-01, 2.83691206e-05,\n",
       "        2.02607534e-05, 4.32845400e-06, 4.40818280e-01, 3.92109250e-05,\n",
       "        1.01841233e-05, 3.11690215e-02, 2.69895396e-03, 7.31048317e-07,\n",
       "        5.07893087e-03, 2.37454511e-02, 5.70966790e-07, 7.83119867e-06,\n",
       "        2.96848291e-03, 8.87539557e-07, 4.54580002e-02, 2.49237419e-05,\n",
       "        9.06265086e-07, 2.31642716e-05, 2.30383892e-02, 2.83140391e-02,\n",
       "        1.33511344e-08, 1.08373195e-06, 3.21852453e-02, 1.57250419e-01]],\n",
       "      dtype=float32)"
      ]
     },
     "execution_count": 36,
     "metadata": {},
     "output_type": "execute_result"
    }
   ],
   "source": [
    "new_model.predict(np.expand_dims(resize/255, 0))"
   ]
  },
  {
   "cell_type": "code",
   "execution_count": 37,
   "id": "37f6690f-d1b1-4188-b2e7-802bb019bb7a",
   "metadata": {},
   "outputs": [
    {
     "data": {
      "text/plain": [
       "<keras.engine.sequential.Sequential at 0x14b9ffa9a20>"
      ]
     },
     "execution_count": 37,
     "metadata": {},
     "output_type": "execute_result"
    }
   ],
   "source": [
    "new_model"
   ]
  },
  {
   "cell_type": "code",
   "execution_count": null,
   "id": "43733d12-ec78-4815-8c80-496b1f9d16fa",
   "metadata": {},
   "outputs": [],
   "source": []
  }
 ],
 "metadata": {
  "kernelspec": {
   "display_name": "Python 3 (ipykernel)",
   "language": "python",
   "name": "python3"
  },
  "language_info": {
   "codemirror_mode": {
    "name": "ipython",
    "version": 3
   },
   "file_extension": ".py",
   "mimetype": "text/x-python",
   "name": "python",
   "nbconvert_exporter": "python",
   "pygments_lexer": "ipython3",
   "version": "3.10.9"
  }
 },
 "nbformat": 4,
 "nbformat_minor": 5
}
